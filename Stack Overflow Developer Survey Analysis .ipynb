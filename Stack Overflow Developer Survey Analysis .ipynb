{
 "cells": [
  {
   "cell_type": "code",
   "execution_count": 126,
   "id": "55fd5a2c",
   "metadata": {},
   "outputs": [],
   "source": [
    "import pandas as pd\n",
    "import numpy as np\n",
    "import seaborn as sns\n",
    "import matplotlib\n",
    "import matplotlib.pyplot as plt\n",
    "plt.style.use('ggplot')\n",
    "from matplotlib.pyplot import figure\n",
    "\n",
    "%matplotlib inline\n",
    "matplotlib.rcParams['figure.figsize'] = (12,8)\n",
    "\n",
    "pd.options.mode.chained_assignment = None\n",
    "from scipy.stats import gaussian_kde\n",
    "import math"
   ]
  },
  {
   "cell_type": "code",
   "execution_count": 2,
   "id": "59cf974c",
   "metadata": {},
   "outputs": [],
   "source": [
    "dp= pd.read_csv(r'C:\\Users\\sony\\OneDrive\\Desktop\\databases\\Stack overflow\\survey_results_public.csv')\n"
   ]
  },
  {
   "cell_type": "code",
   "execution_count": 69,
   "id": "c039a7ba",
   "metadata": {},
   "outputs": [
    {
     "data": {
      "text/plain": [
       "ResponseId               int64\n",
       "Q120                    object\n",
       "MainBranch              object\n",
       "Age                     object\n",
       "Employment              string\n",
       "                        ...   \n",
       "ProfessionalTech        object\n",
       "Industry                object\n",
       "SurveyLength            object\n",
       "SurveyEase              object\n",
       "ConvertedCompYearly    float64\n",
       "Length: 84, dtype: object"
      ]
     },
     "execution_count": 69,
     "metadata": {},
     "output_type": "execute_result"
    }
   ],
   "source": [
    "dp.dtypes"
   ]
  },
  {
   "cell_type": "code",
   "execution_count": 49,
   "id": "59249585",
   "metadata": {},
   "outputs": [
    {
     "name": "stdout",
     "output_type": "stream",
     "text": [
      "ResponseId-0%\n",
      "Q120-0%\n",
      "MainBranch-0%\n",
      "Age-0%\n",
      "Employment-1%\n",
      "RemoteWork-17%\n",
      "CodingActivities-17%\n",
      "EdLevel-1%\n",
      "LearnCode-2%\n",
      "LearnCodeOnline-21%\n",
      "LearnCodeCoursesCert-58%\n",
      "YearsCode-2%\n",
      "YearsCodePro-26%\n",
      "DevType-14%\n",
      "OrgSize-27%\n",
      "PurchaseInfluence-27%\n",
      "TechList-32%\n",
      "BuyNewTool-7%\n",
      "Country-1%\n",
      "Currency-27%\n",
      "CompTotal-46%\n",
      "LanguageHaveWorkedWith-2%\n",
      "LanguageWantToWorkWith-10%\n",
      "DatabaseHaveWorkedWith-18%\n",
      "DatabaseWantToWorkWith-32%\n",
      "PlatformHaveWorkedWith-29%\n",
      "PlatformWantToWorkWith-42%\n",
      "WebframeHaveWorkedWith-25%\n",
      "WebframeWantToWorkWith-36%\n",
      "MiscTechHaveWorkedWith-36%\n",
      "MiscTechWantToWorkWith-47%\n",
      "ToolsTechHaveWorkedWith-13%\n",
      "ToolsTechWantToWorkWith-23%\n",
      "NEWCollabToolsHaveWorkedWith-4%\n",
      "NEWCollabToolsWantToWorkWith-14%\n",
      "OpSysPersonal use-3%\n",
      "OpSysProfessional use-12%\n",
      "OfficeStackAsyncHaveWorkedWith-23%\n",
      "OfficeStackAsyncWantToWorkWith-40%\n",
      "OfficeStackSyncHaveWorkedWith-6%\n",
      "OfficeStackSyncWantToWorkWith-22%\n",
      "AISearchHaveWorkedWith-37%\n",
      "AISearchWantToWorkWith-48%\n",
      "AIDevHaveWorkedWith-71%\n",
      "AIDevWantToWorkWith-78%\n",
      "NEWSOSites-1%\n",
      "SOVisitFreq-2%\n",
      "SOAccount-1%\n",
      "SOPartFreq-26%\n",
      "SOComm-2%\n",
      "SOAI-46%\n",
      "AISelect-1%\n",
      "AISent-31%\n",
      "AIAcc-57%\n",
      "AIBen-31%\n",
      "AIToolInterested in Using-63%\n",
      "AIToolCurrently Using-59%\n",
      "AIToolNot interested in Using-76%\n",
      "AINextVery different-86%\n",
      "AINextNeither different nor similar-93%\n",
      "AINextSomewhat similar-93%\n",
      "AINextVery similar-97%\n",
      "AINextSomewhat different-74%\n",
      "TBranch-26%\n",
      "ICorPM-51%\n",
      "WorkExp-51%\n",
      "Knowledge_1-52%\n",
      "Knowledge_2-53%\n",
      "Knowledge_3-53%\n",
      "Knowledge_4-53%\n",
      "Knowledge_5-53%\n",
      "Knowledge_6-53%\n",
      "Knowledge_7-54%\n",
      "Knowledge_8-54%\n",
      "Frequency_1-53%\n",
      "Frequency_2-53%\n",
      "Frequency_3-54%\n",
      "TimeSearching-52%\n",
      "TimeAnswering-52%\n",
      "ProfessionalTech-53%\n",
      "Industry-59%\n",
      "SurveyLength-3%\n",
      "SurveyEase-3%\n",
      "ConvertedCompYearly-46%\n"
     ]
    }
   ],
   "source": [
    "# check for missing values\n",
    "for col in dp.columns:\n",
    "    per_missing=np.mean(dp[col].isnull())\n",
    "    print('{}-{}%'.format(col,round(per_missing*100)))"
   ]
  },
  {
   "cell_type": "code",
   "execution_count": 3,
   "id": "e38fec69",
   "metadata": {
    "collapsed": true
   },
   "outputs": [
    {
     "data": {
      "text/plain": [
       "string[python]"
      ]
     },
     "execution_count": 3,
     "metadata": {},
     "output_type": "execute_result"
    }
   ],
   "source": [
    "dp['Employment']=dp['Employment'].astype('string')\n",
    "\n",
    "dp['Employment'].dtypes"
   ]
  },
  {
   "cell_type": "code",
   "execution_count": 4,
   "id": "93de5532",
   "metadata": {},
   "outputs": [],
   "source": [
    "dp['EdLevel']=dp['EdLevel'].astype('string')"
   ]
  },
  {
   "cell_type": "code",
   "execution_count": 249,
   "id": "0c869b9f",
   "metadata": {},
   "outputs": [
    {
     "data": {
      "text/html": [
       "<div>\n",
       "<style scoped>\n",
       "    .dataframe tbody tr th:only-of-type {\n",
       "        vertical-align: middle;\n",
       "    }\n",
       "\n",
       "    .dataframe tbody tr th {\n",
       "        vertical-align: top;\n",
       "    }\n",
       "\n",
       "    .dataframe thead th {\n",
       "        text-align: right;\n",
       "    }\n",
       "</style>\n",
       "<table border=\"1\" class=\"dataframe\">\n",
       "  <thead>\n",
       "    <tr style=\"text-align: right;\">\n",
       "      <th></th>\n",
       "      <th>ResponseId</th>\n",
       "      <th>EdLevel</th>\n",
       "      <th>Employment</th>\n",
       "    </tr>\n",
       "  </thead>\n",
       "  <tbody>\n",
       "    <tr>\n",
       "      <th>1</th>\n",
       "      <td>2</td>\n",
       "      <td>Bachelor’s degree (B.A., B.S., B.Eng., etc.)</td>\n",
       "      <td>Employed, full-time</td>\n",
       "    </tr>\n",
       "    <tr>\n",
       "      <th>2</th>\n",
       "      <td>3</td>\n",
       "      <td>Bachelor’s degree (B.A., B.S., B.Eng., etc.)</td>\n",
       "      <td>Employed, full-time</td>\n",
       "    </tr>\n",
       "    <tr>\n",
       "      <th>3</th>\n",
       "      <td>4</td>\n",
       "      <td>Bachelor’s degree (B.A., B.S., B.Eng., etc.)</td>\n",
       "      <td>Employed, full-time</td>\n",
       "    </tr>\n",
       "    <tr>\n",
       "      <th>4</th>\n",
       "      <td>5</td>\n",
       "      <td>Bachelor’s degree (B.A., B.S., B.Eng., etc.)</td>\n",
       "      <td>Employed, full-time;Independent contractor, fr...</td>\n",
       "    </tr>\n",
       "    <tr>\n",
       "      <th>5</th>\n",
       "      <td>6</td>\n",
       "      <td>Some college/university study without earning ...</td>\n",
       "      <td>Employed, full-time</td>\n",
       "    </tr>\n",
       "    <tr>\n",
       "      <th>...</th>\n",
       "      <td>...</td>\n",
       "      <td>...</td>\n",
       "      <td>...</td>\n",
       "    </tr>\n",
       "    <tr>\n",
       "      <th>89179</th>\n",
       "      <td>89180</td>\n",
       "      <td>Associate degree (A.A., A.S., etc.)</td>\n",
       "      <td>Employed, full-time;Independent contractor, fr...</td>\n",
       "    </tr>\n",
       "    <tr>\n",
       "      <th>89180</th>\n",
       "      <td>89181</td>\n",
       "      <td>Bachelor’s degree (B.A., B.S., B.Eng., etc.)</td>\n",
       "      <td>Student, full-time;Employed, part-time</td>\n",
       "    </tr>\n",
       "    <tr>\n",
       "      <th>89181</th>\n",
       "      <td>89182</td>\n",
       "      <td>Something else</td>\n",
       "      <td>I prefer not to say</td>\n",
       "    </tr>\n",
       "    <tr>\n",
       "      <th>89182</th>\n",
       "      <td>89183</td>\n",
       "      <td>Secondary school (e.g. American high school, G...</td>\n",
       "      <td>Employed, part-time;Student, part-time</td>\n",
       "    </tr>\n",
       "    <tr>\n",
       "      <th>89183</th>\n",
       "      <td>89184</td>\n",
       "      <td>Bachelor’s degree (B.A., B.S., B.Eng., etc.)</td>\n",
       "      <td>Employed, full-time</td>\n",
       "    </tr>\n",
       "  </tbody>\n",
       "</table>\n",
       "<p>87898 rows × 3 columns</p>\n",
       "</div>"
      ],
      "text/plain": [
       "       ResponseId                                            EdLevel  \\\n",
       "1               2       Bachelor’s degree (B.A., B.S., B.Eng., etc.)   \n",
       "2               3       Bachelor’s degree (B.A., B.S., B.Eng., etc.)   \n",
       "3               4       Bachelor’s degree (B.A., B.S., B.Eng., etc.)   \n",
       "4               5       Bachelor’s degree (B.A., B.S., B.Eng., etc.)   \n",
       "5               6  Some college/university study without earning ...   \n",
       "...           ...                                                ...   \n",
       "89179       89180                Associate degree (A.A., A.S., etc.)   \n",
       "89180       89181       Bachelor’s degree (B.A., B.S., B.Eng., etc.)   \n",
       "89181       89182                                     Something else   \n",
       "89182       89183  Secondary school (e.g. American high school, G...   \n",
       "89183       89184       Bachelor’s degree (B.A., B.S., B.Eng., etc.)   \n",
       "\n",
       "                                              Employment  \n",
       "1                                    Employed, full-time  \n",
       "2                                    Employed, full-time  \n",
       "3                                    Employed, full-time  \n",
       "4      Employed, full-time;Independent contractor, fr...  \n",
       "5                                    Employed, full-time  \n",
       "...                                                  ...  \n",
       "89179  Employed, full-time;Independent contractor, fr...  \n",
       "89180             Student, full-time;Employed, part-time  \n",
       "89181                                I prefer not to say  \n",
       "89182             Employed, part-time;Student, part-time  \n",
       "89183                                Employed, full-time  \n",
       "\n",
       "[87898 rows x 3 columns]"
      ]
     },
     "execution_count": 249,
     "metadata": {},
     "output_type": "execute_result"
    }
   ],
   "source": [
    "# Employment percentage by Education Level\n",
    "\n",
    "new_dp= dp[['ResponseId','EdLevel','Employment']] \n",
    "new_dp=new_dp.dropna()\n",
    "new_dp"
   ]
  },
  {
   "cell_type": "code",
   "execution_count": 250,
   "id": "2f61ed1a",
   "metadata": {},
   "outputs": [],
   "source": [
    "# cleaning the data\n",
    "list3=[]\n",
    "for row in new_dp['EdLevel'].values:\n",
    "    a1 = row.split('(')[0].strip()\n",
    "    b1 =list3.append(a1)\n",
    "new_dp['EdLevel']=list3\n",
    "\n",
    "list4=[]\n",
    "for row in new_dp['Employment'].values:\n",
    "    a2 = row.split(',')[0]\n",
    "    b2 =list4.append(a2)\n",
    "new_dp['Employment']=list4"
   ]
  },
  {
   "cell_type": "code",
   "execution_count": 254,
   "id": "7fe8cb86",
   "metadata": {},
   "outputs": [
    {
     "data": {
      "text/html": [
       "<div>\n",
       "<style scoped>\n",
       "    .dataframe tbody tr th:only-of-type {\n",
       "        vertical-align: middle;\n",
       "    }\n",
       "\n",
       "    .dataframe tbody tr th {\n",
       "        vertical-align: top;\n",
       "    }\n",
       "\n",
       "    .dataframe thead th {\n",
       "        text-align: right;\n",
       "    }\n",
       "</style>\n",
       "<table border=\"1\" class=\"dataframe\">\n",
       "  <thead>\n",
       "    <tr style=\"text-align: right;\">\n",
       "      <th></th>\n",
       "      <th>ResponseId</th>\n",
       "      <th>EdLevel</th>\n",
       "      <th>Employment</th>\n",
       "    </tr>\n",
       "  </thead>\n",
       "  <tbody>\n",
       "    <tr>\n",
       "      <th>1</th>\n",
       "      <td>2</td>\n",
       "      <td>Bachelor’s degree</td>\n",
       "      <td>Employed</td>\n",
       "    </tr>\n",
       "    <tr>\n",
       "      <th>2</th>\n",
       "      <td>3</td>\n",
       "      <td>Bachelor’s degree</td>\n",
       "      <td>Employed</td>\n",
       "    </tr>\n",
       "    <tr>\n",
       "      <th>3</th>\n",
       "      <td>4</td>\n",
       "      <td>Bachelor’s degree</td>\n",
       "      <td>Employed</td>\n",
       "    </tr>\n",
       "    <tr>\n",
       "      <th>4</th>\n",
       "      <td>5</td>\n",
       "      <td>Bachelor’s degree</td>\n",
       "      <td>Employed</td>\n",
       "    </tr>\n",
       "    <tr>\n",
       "      <th>5</th>\n",
       "      <td>6</td>\n",
       "      <td>Some college/university study without earning ...</td>\n",
       "      <td>Employed</td>\n",
       "    </tr>\n",
       "    <tr>\n",
       "      <th>...</th>\n",
       "      <td>...</td>\n",
       "      <td>...</td>\n",
       "      <td>...</td>\n",
       "    </tr>\n",
       "    <tr>\n",
       "      <th>89179</th>\n",
       "      <td>89180</td>\n",
       "      <td>Associate degree</td>\n",
       "      <td>Employed</td>\n",
       "    </tr>\n",
       "    <tr>\n",
       "      <th>89180</th>\n",
       "      <td>89181</td>\n",
       "      <td>Bachelor’s degree</td>\n",
       "      <td>Student</td>\n",
       "    </tr>\n",
       "    <tr>\n",
       "      <th>89181</th>\n",
       "      <td>89182</td>\n",
       "      <td>Something else</td>\n",
       "      <td>I prefer not to say</td>\n",
       "    </tr>\n",
       "    <tr>\n",
       "      <th>89182</th>\n",
       "      <td>89183</td>\n",
       "      <td>Secondary school</td>\n",
       "      <td>Employed</td>\n",
       "    </tr>\n",
       "    <tr>\n",
       "      <th>89183</th>\n",
       "      <td>89184</td>\n",
       "      <td>Bachelor’s degree</td>\n",
       "      <td>Employed</td>\n",
       "    </tr>\n",
       "  </tbody>\n",
       "</table>\n",
       "<p>87898 rows × 3 columns</p>\n",
       "</div>"
      ],
      "text/plain": [
       "       ResponseId                                            EdLevel  \\\n",
       "1               2                                  Bachelor’s degree   \n",
       "2               3                                  Bachelor’s degree   \n",
       "3               4                                  Bachelor’s degree   \n",
       "4               5                                  Bachelor’s degree   \n",
       "5               6  Some college/university study without earning ...   \n",
       "...           ...                                                ...   \n",
       "89179       89180                                   Associate degree   \n",
       "89180       89181                                  Bachelor’s degree   \n",
       "89181       89182                                     Something else   \n",
       "89182       89183                                   Secondary school   \n",
       "89183       89184                                  Bachelor’s degree   \n",
       "\n",
       "                Employment  \n",
       "1                 Employed  \n",
       "2                 Employed  \n",
       "3                 Employed  \n",
       "4                 Employed  \n",
       "5                 Employed  \n",
       "...                    ...  \n",
       "89179             Employed  \n",
       "89180              Student  \n",
       "89181  I prefer not to say  \n",
       "89182             Employed  \n",
       "89183             Employed  \n",
       "\n",
       "[87898 rows x 3 columns]"
      ]
     },
     "execution_count": 254,
     "metadata": {},
     "output_type": "execute_result"
    }
   ],
   "source": [
    "new_dp"
   ]
  },
  {
   "cell_type": "code",
   "execution_count": 258,
   "id": "f71f1faf",
   "metadata": {},
   "outputs": [
    {
     "data": {
      "image/png": "[encoded data removed]",
      "text/plain": [
       "<Figure size 864x576 with 1 Axes>"
      ]
     },
     "metadata": {},
     "output_type": "display_data"
    }
   ],
   "source": [
    "c=0\n",
    "c1=0\n",
    "c2=0\n",
    "c3=0\n",
    "c4=0\n",
    "c5=0\n",
    "c6=0\n",
    "c7=0\n",
    "c8=0\n",
    "for v0,v1,v2 in new_dp.values:\n",
    "    if v2=='Employed':\n",
    "        c=c+1\n",
    "        if v1=='Master’s degree':\n",
    "            c1=c1+1\n",
    "        elif v1== 'Bachelor’s degree':\n",
    "            c2=c2+1\n",
    "        elif v1 =='Secondary school':\n",
    "            c3=c3+1\n",
    "        elif v1=='Professional degree':\n",
    "            c4=c4+1\n",
    "        elif v1=='Primary/elementary school':\n",
    "            c5=c5+1\n",
    "        elif v1=='Some college/university study without earning a degree':\n",
    "            c6=c6+1\n",
    "        elif v1=='Associate degree':\n",
    "            c7=c7+1\n",
    "        else: c8=c8+1\n",
    "#print(f'number of total employees {c}')\n",
    "#print(f\"number of employees with master's degree {c1}\")\n",
    "#print(f\"number of employees with Bachelor's degree {c2}\")\n",
    "#print(f\"number of employees with Secondary school {c3}\")\n",
    "#print(f\"number of employees with Professional degree {c4}\")\n",
    "#print(f\"number of employees with Primary/elementary school {c5}\")\n",
    "#print(f\"number of employees with Some college/university study without earning a degree {c6}\")\n",
    "#print(f\"number of employees with Associate degree {c7}\")\n",
    "#print(f'something else {c8}')\n",
    "\n",
    "y = np.array([round((c1/c)*100),round((c2/c)*100),round((c3/c)*100),round((c4/c)*100),round((c5/c)*100),round((c6/c)*100),\n",
    "              round((c7/c)*100),round((c8/c)*100)])\n",
    "mylabels = [f\"Master’s degree {y[0]} %\", f\" Bachelor's degree {y[1]} %\", f\"Secondary school {y[2]} %\",\n",
    "            f\"Professional degree {y[3]} %\",f\"Primary/elementary school {y[4]} %\",\n",
    "            f\" Some college/university study without earning a degree {y[5]} %\",f\"Associate degree {y[6]} %\",f\"something else {y[7]} %\"]\n",
    "\n",
    "plt.pie(y,radius=2)\n",
    "\n",
    "plt.legend(title = \"Employed Edecation Level percentage\",title_fontsize=15,labels = mylabels,\n",
    "           bbox_to_anchor=(1.5,1.5), loc=\"upper left\",fontsize=12)\n",
    "plt.show() "
   ]
  },
  {
   "cell_type": "code",
   "execution_count": 86,
   "id": "0905772b",
   "metadata": {
    "collapsed": true
   },
   "outputs": [
    {
     "data": {
      "text/plain": [
       "0                                        <NA>\n",
       "1                                      Remote\n",
       "2        Hybrid (some remote, some in-person)\n",
       "3        Hybrid (some remote, some in-person)\n",
       "4                                      Remote\n",
       "                         ...                 \n",
       "89179                                  Remote\n",
       "89180    Hybrid (some remote, some in-person)\n",
       "89181                                    <NA>\n",
       "89182    Hybrid (some remote, some in-person)\n",
       "89183    Hybrid (some remote, some in-person)\n",
       "Name: RemoteWork, Length: 89184, dtype: string"
      ]
     },
     "execution_count": 86,
     "metadata": {},
     "output_type": "execute_result"
    }
   ],
   "source": [
    "dp['RemoteWork'].astype('string')\n"
   ]
  },
  {
   "cell_type": "code",
   "execution_count": 262,
   "id": "6763b249",
   "metadata": {},
   "outputs": [
    {
     "data": {
      "text/html": [
       "<div>\n",
       "<style scoped>\n",
       "    .dataframe tbody tr th:only-of-type {\n",
       "        vertical-align: middle;\n",
       "    }\n",
       "\n",
       "    .dataframe tbody tr th {\n",
       "        vertical-align: top;\n",
       "    }\n",
       "\n",
       "    .dataframe thead th {\n",
       "        text-align: right;\n",
       "    }\n",
       "</style>\n",
       "<table border=\"1\" class=\"dataframe\">\n",
       "  <thead>\n",
       "    <tr style=\"text-align: right;\">\n",
       "      <th></th>\n",
       "      <th>RemoteWork</th>\n",
       "      <th>Employment</th>\n",
       "    </tr>\n",
       "  </thead>\n",
       "  <tbody>\n",
       "    <tr>\n",
       "      <th>1</th>\n",
       "      <td>Remote</td>\n",
       "      <td>Employed, full-time</td>\n",
       "    </tr>\n",
       "    <tr>\n",
       "      <th>2</th>\n",
       "      <td>Hybrid (some remote, some in-person)</td>\n",
       "      <td>Employed, full-time</td>\n",
       "    </tr>\n",
       "    <tr>\n",
       "      <th>3</th>\n",
       "      <td>Hybrid (some remote, some in-person)</td>\n",
       "      <td>Employed, full-time</td>\n",
       "    </tr>\n",
       "    <tr>\n",
       "      <th>4</th>\n",
       "      <td>Remote</td>\n",
       "      <td>Employed, full-time;Independent contractor, fr...</td>\n",
       "    </tr>\n",
       "    <tr>\n",
       "      <th>5</th>\n",
       "      <td>Remote</td>\n",
       "      <td>Employed, full-time</td>\n",
       "    </tr>\n",
       "    <tr>\n",
       "      <th>...</th>\n",
       "      <td>...</td>\n",
       "      <td>...</td>\n",
       "    </tr>\n",
       "    <tr>\n",
       "      <th>89178</th>\n",
       "      <td>Remote</td>\n",
       "      <td>Employed, full-time</td>\n",
       "    </tr>\n",
       "    <tr>\n",
       "      <th>89179</th>\n",
       "      <td>Remote</td>\n",
       "      <td>Employed, full-time;Independent contractor, fr...</td>\n",
       "    </tr>\n",
       "    <tr>\n",
       "      <th>89180</th>\n",
       "      <td>Hybrid (some remote, some in-person)</td>\n",
       "      <td>Student, full-time;Employed, part-time</td>\n",
       "    </tr>\n",
       "    <tr>\n",
       "      <th>89182</th>\n",
       "      <td>Hybrid (some remote, some in-person)</td>\n",
       "      <td>Employed, part-time;Student, part-time</td>\n",
       "    </tr>\n",
       "    <tr>\n",
       "      <th>89183</th>\n",
       "      <td>Hybrid (some remote, some in-person)</td>\n",
       "      <td>Employed, full-time</td>\n",
       "    </tr>\n",
       "  </tbody>\n",
       "</table>\n",
       "<p>73810 rows × 2 columns</p>\n",
       "</div>"
      ],
      "text/plain": [
       "                                 RemoteWork  \\\n",
       "1                                    Remote   \n",
       "2      Hybrid (some remote, some in-person)   \n",
       "3      Hybrid (some remote, some in-person)   \n",
       "4                                    Remote   \n",
       "5                                    Remote   \n",
       "...                                     ...   \n",
       "89178                                Remote   \n",
       "89179                                Remote   \n",
       "89180  Hybrid (some remote, some in-person)   \n",
       "89182  Hybrid (some remote, some in-person)   \n",
       "89183  Hybrid (some remote, some in-person)   \n",
       "\n",
       "                                              Employment  \n",
       "1                                    Employed, full-time  \n",
       "2                                    Employed, full-time  \n",
       "3                                    Employed, full-time  \n",
       "4      Employed, full-time;Independent contractor, fr...  \n",
       "5                                    Employed, full-time  \n",
       "...                                                  ...  \n",
       "89178                                Employed, full-time  \n",
       "89179  Employed, full-time;Independent contractor, fr...  \n",
       "89180             Student, full-time;Employed, part-time  \n",
       "89182             Employed, part-time;Student, part-time  \n",
       "89183                                Employed, full-time  \n",
       "\n",
       "[73810 rows x 2 columns]"
      ]
     },
     "execution_count": 262,
     "metadata": {},
     "output_type": "execute_result"
    }
   ],
   "source": [
    "# Type of work Percentage\n",
    "n_dp=dp[['RemoteWork','Employment']]\n",
    "n_dp=n_dp.dropna()\n",
    "n_dp"
   ]
  },
  {
   "cell_type": "code",
   "execution_count": 263,
   "id": "5e1cd9ff",
   "metadata": {},
   "outputs": [],
   "source": [
    "# Cleaning the data\n",
    "list5=[]\n",
    "for row in n_dp['RemoteWork'].values:\n",
    "    a5 = row.split('(')[0].strip()\n",
    "    b5 =list5.append(a5)\n",
    "n_dp['RemoteWork']=list5\n",
    "\n",
    "list6=[]\n",
    "for row in n_dp['Employment'].values:\n",
    "    a6 = row.split(',')[0].strip()\n",
    "    b6 =list6.append(a6)\n",
    "n_dp['Employment']=list6"
   ]
  },
  {
   "cell_type": "code",
   "execution_count": 264,
   "id": "1c53ec4b",
   "metadata": {},
   "outputs": [
    {
     "data": {
      "text/html": [
       "<div>\n",
       "<style scoped>\n",
       "    .dataframe tbody tr th:only-of-type {\n",
       "        vertical-align: middle;\n",
       "    }\n",
       "\n",
       "    .dataframe tbody tr th {\n",
       "        vertical-align: top;\n",
       "    }\n",
       "\n",
       "    .dataframe thead th {\n",
       "        text-align: right;\n",
       "    }\n",
       "</style>\n",
       "<table border=\"1\" class=\"dataframe\">\n",
       "  <thead>\n",
       "    <tr style=\"text-align: right;\">\n",
       "      <th></th>\n",
       "      <th>RemoteWork</th>\n",
       "      <th>Employment</th>\n",
       "    </tr>\n",
       "  </thead>\n",
       "  <tbody>\n",
       "    <tr>\n",
       "      <th>1</th>\n",
       "      <td>Remote</td>\n",
       "      <td>Employed</td>\n",
       "    </tr>\n",
       "    <tr>\n",
       "      <th>2</th>\n",
       "      <td>Hybrid</td>\n",
       "      <td>Employed</td>\n",
       "    </tr>\n",
       "    <tr>\n",
       "      <th>3</th>\n",
       "      <td>Hybrid</td>\n",
       "      <td>Employed</td>\n",
       "    </tr>\n",
       "    <tr>\n",
       "      <th>4</th>\n",
       "      <td>Remote</td>\n",
       "      <td>Employed</td>\n",
       "    </tr>\n",
       "    <tr>\n",
       "      <th>5</th>\n",
       "      <td>Remote</td>\n",
       "      <td>Employed</td>\n",
       "    </tr>\n",
       "    <tr>\n",
       "      <th>...</th>\n",
       "      <td>...</td>\n",
       "      <td>...</td>\n",
       "    </tr>\n",
       "    <tr>\n",
       "      <th>89178</th>\n",
       "      <td>Remote</td>\n",
       "      <td>Employed</td>\n",
       "    </tr>\n",
       "    <tr>\n",
       "      <th>89179</th>\n",
       "      <td>Remote</td>\n",
       "      <td>Employed</td>\n",
       "    </tr>\n",
       "    <tr>\n",
       "      <th>89180</th>\n",
       "      <td>Hybrid</td>\n",
       "      <td>Student</td>\n",
       "    </tr>\n",
       "    <tr>\n",
       "      <th>89182</th>\n",
       "      <td>Hybrid</td>\n",
       "      <td>Employed</td>\n",
       "    </tr>\n",
       "    <tr>\n",
       "      <th>89183</th>\n",
       "      <td>Hybrid</td>\n",
       "      <td>Employed</td>\n",
       "    </tr>\n",
       "  </tbody>\n",
       "</table>\n",
       "<p>73810 rows × 2 columns</p>\n",
       "</div>"
      ],
      "text/plain": [
       "      RemoteWork Employment\n",
       "1         Remote   Employed\n",
       "2         Hybrid   Employed\n",
       "3         Hybrid   Employed\n",
       "4         Remote   Employed\n",
       "5         Remote   Employed\n",
       "...          ...        ...\n",
       "89178     Remote   Employed\n",
       "89179     Remote   Employed\n",
       "89180     Hybrid    Student\n",
       "89182     Hybrid   Employed\n",
       "89183     Hybrid   Employed\n",
       "\n",
       "[73810 rows x 2 columns]"
      ]
     },
     "execution_count": 264,
     "metadata": {},
     "output_type": "execute_result"
    }
   ],
   "source": [
    "n_dp"
   ]
  },
  {
   "cell_type": "code",
   "execution_count": 222,
   "id": "ebda0791",
   "metadata": {},
   "outputs": [
    {
     "data": {
      "text/plain": [
       "Employed                  63258\n",
       "Independent contractor     9118\n",
       "Student                    1397\n",
       "Not employed                 37\n",
       "dtype: int64"
      ]
     },
     "execution_count": 222,
     "metadata": {},
     "output_type": "execute_result"
    }
   ],
   "source": [
    "pd.value_counts(n_dp['Employment'].values)"
   ]
  },
  {
   "cell_type": "code",
   "execution_count": 265,
   "id": "ddf3539c",
   "metadata": {},
   "outputs": [],
   "source": [
    "# prepare the data for visualization\n",
    "\n",
    "def n_array_counter(word1,word2,word3,word4,array):\n",
    "    count=0\n",
    "    count2=0\n",
    "    count3=0\n",
    "    count4=0\n",
    "    x=[]\n",
    "    z=[]\n",
    "    for v1,v2 in array.values:\n",
    "        if v2==word1:\n",
    "            count=count+1\n",
    "            if v1 == word2:\n",
    "                count2=count2+1\n",
    "            if v1 == word3:\n",
    "                count3=count3+1\n",
    "            if v1 == word4:\n",
    "                count4=count4+1\n",
    "    perc2=round((count2/count)*100)\n",
    "    perc3=round((count3/count)*100)\n",
    "    perc4=round((count4/count)*100)\n",
    "    return [perc2,perc3,perc4],[word2,word3,word4]"
   ]
  },
  {
   "cell_type": "code",
   "execution_count": 266,
   "id": "6c7ffd23",
   "metadata": {},
   "outputs": [],
   "source": [
    "x=n_array_counter('Employed','Remote','Hybrid','In-person',n_dp)[0]\n",
    "z=n_array_counter('Employed','Remote','Hybrid','In-person',n_dp)[1]\n"
   ]
  },
  {
   "cell_type": "code",
   "execution_count": 267,
   "id": "dda89721",
   "metadata": {
    "scrolled": false
   },
   "outputs": [
    {
     "data": {
      "image/png": "[encoded data removed]",
      "text/plain": [
       "<Figure size 864x576 with 1 Axes>"
      ]
     },
     "metadata": {
      "needs_background": "light"
     },
     "output_type": "display_data"
    }
   ],
   "source": [
    "work_type = pd.Series(x)\n",
    "\n",
    "\n",
    "# Plot the figure.\n",
    "bar_colors=['tab:red', 'tab:blue', 'tab:green']\n",
    "lables = ['Remote','Hybrid','In-person']\n",
    "ax = work_type.plot(kind=\"bar\",color=bar_colors)\n",
    "ax.set_xlabel(\"Work Type\",fontsize=12)\n",
    "ax.set_ylabel(\"Percentage\",fontsize=12)\n",
    "ax.set_xticklabels(lables, rotation=0, rotation_mode=\"anchor\")\n",
    "\n",
    "rects = ax.patches\n",
    "\n",
    "# Make some labels.\n",
    "labels = [f\"{x[i]}%\" for i in range(len(rects))]\n",
    "\n",
    "for rect, label in zip(rects, labels):\n",
    "    height = rect.get_height()\n",
    "    ax.text(\n",
    "        rect.get_x() + rect.get_width() / 2, height +0.5 , label, ha=\"center\", va=\"bottom\"\n",
    "    )\n",
    "\n",
    "plt.show()"
   ]
  },
  {
   "cell_type": "code",
   "execution_count": 268,
   "id": "5c79ff23",
   "metadata": {
    "scrolled": true
   },
   "outputs": [
    {
     "data": {
      "text/html": [
       "<div>\n",
       "<style scoped>\n",
       "    .dataframe tbody tr th:only-of-type {\n",
       "        vertical-align: middle;\n",
       "    }\n",
       "\n",
       "    .dataframe tbody tr th {\n",
       "        vertical-align: top;\n",
       "    }\n",
       "\n",
       "    .dataframe thead th {\n",
       "        text-align: right;\n",
       "    }\n",
       "</style>\n",
       "<table border=\"1\" class=\"dataframe\">\n",
       "  <thead>\n",
       "    <tr style=\"text-align: right;\">\n",
       "      <th></th>\n",
       "      <th>WorkExp</th>\n",
       "      <th>ConvertedCompYearly</th>\n",
       "      <th>Work Experience</th>\n",
       "      <th>Salary</th>\n",
       "    </tr>\n",
       "  </thead>\n",
       "  <tbody>\n",
       "    <tr>\n",
       "      <th>1</th>\n",
       "      <td>10.0</td>\n",
       "      <td>285000.0</td>\n",
       "      <td>10</td>\n",
       "      <td>285000</td>\n",
       "    </tr>\n",
       "    <tr>\n",
       "      <th>2</th>\n",
       "      <td>23.0</td>\n",
       "      <td>250000.0</td>\n",
       "      <td>23</td>\n",
       "      <td>250000</td>\n",
       "    </tr>\n",
       "    <tr>\n",
       "      <th>3</th>\n",
       "      <td>7.0</td>\n",
       "      <td>156000.0</td>\n",
       "      <td>7</td>\n",
       "      <td>156000</td>\n",
       "    </tr>\n",
       "    <tr>\n",
       "      <th>4</th>\n",
       "      <td>6.0</td>\n",
       "      <td>23456.0</td>\n",
       "      <td>6</td>\n",
       "      <td>23456</td>\n",
       "    </tr>\n",
       "    <tr>\n",
       "      <th>5</th>\n",
       "      <td>22.0</td>\n",
       "      <td>96828.0</td>\n",
       "      <td>22</td>\n",
       "      <td>96828</td>\n",
       "    </tr>\n",
       "    <tr>\n",
       "      <th>...</th>\n",
       "      <td>...</td>\n",
       "      <td>...</td>\n",
       "      <td>...</td>\n",
       "      <td>...</td>\n",
       "    </tr>\n",
       "    <tr>\n",
       "      <th>89162</th>\n",
       "      <td>25.0</td>\n",
       "      <td>50719.0</td>\n",
       "      <td>25</td>\n",
       "      <td>50719</td>\n",
       "    </tr>\n",
       "    <tr>\n",
       "      <th>89166</th>\n",
       "      <td>3.0</td>\n",
       "      <td>16917.0</td>\n",
       "      <td>3</td>\n",
       "      <td>16917</td>\n",
       "    </tr>\n",
       "    <tr>\n",
       "      <th>89167</th>\n",
       "      <td>2.0</td>\n",
       "      <td>15752.0</td>\n",
       "      <td>2</td>\n",
       "      <td>15752</td>\n",
       "    </tr>\n",
       "    <tr>\n",
       "      <th>89170</th>\n",
       "      <td>9.0</td>\n",
       "      <td>64254.0</td>\n",
       "      <td>9</td>\n",
       "      <td>64254</td>\n",
       "    </tr>\n",
       "    <tr>\n",
       "      <th>89171</th>\n",
       "      <td>9.0</td>\n",
       "      <td>61041.0</td>\n",
       "      <td>9</td>\n",
       "      <td>61041</td>\n",
       "    </tr>\n",
       "  </tbody>\n",
       "</table>\n",
       "<p>32638 rows × 4 columns</p>\n",
       "</div>"
      ],
      "text/plain": [
       "       WorkExp  ConvertedCompYearly  Work Experience  Salary\n",
       "1         10.0             285000.0               10  285000\n",
       "2         23.0             250000.0               23  250000\n",
       "3          7.0             156000.0                7  156000\n",
       "4          6.0              23456.0                6   23456\n",
       "5         22.0              96828.0               22   96828\n",
       "...        ...                  ...              ...     ...\n",
       "89162     25.0              50719.0               25   50719\n",
       "89166      3.0              16917.0                3   16917\n",
       "89167      2.0              15752.0                2   15752\n",
       "89170      9.0              64254.0                9   64254\n",
       "89171      9.0              61041.0                9   61041\n",
       "\n",
       "[32638 rows x 4 columns]"
      ]
     },
     "execution_count": 268,
     "metadata": {},
     "output_type": "execute_result"
    }
   ],
   "source": [
    "# Work Experience VS Salary\n",
    "dp1=dp[['WorkExp','ConvertedCompYearly']]\n",
    "dp1=dp1.dropna()\n",
    "dp1['Work Experience']=dp1['WorkExp'].astype('int64')\n",
    "dp1['Salary']=dp1['ConvertedCompYearly'].astype('int64')\n",
    "dp1"
   ]
  },
  {
   "cell_type": "code",
   "execution_count": 269,
   "id": "4ccf60d6",
   "metadata": {},
   "outputs": [
    {
     "data": {
      "text/plain": [
       "21332"
      ]
     },
     "execution_count": 269,
     "metadata": {},
     "output_type": "execute_result"
    }
   ],
   "source": [
    "# Cleaning the data\n",
    "\n",
    "index_max = np.argmax(dp1['Salary'].values) # check for very large data\n",
    "index_max"
   ]
  },
  {
   "cell_type": "code",
   "execution_count": 270,
   "id": "c9e10d51",
   "metadata": {},
   "outputs": [],
   "source": [
    "# delete the large data not to affect the mean\n",
    "# 3 data was found biger than 70M dollar per year!!!\n",
    "dp1.iloc[21332]\n",
    "dp1=dp1.drop(dp1.index[21332])"
   ]
  },
  {
   "cell_type": "code",
   "execution_count": 271,
   "id": "137b41e5",
   "metadata": {},
   "outputs": [
    {
     "data": {
      "text/plain": [
       "29637"
      ]
     },
     "execution_count": 271,
     "metadata": {},
     "output_type": "execute_result"
    }
   ],
   "source": [
    "index_max = np.argmax(dp1['Salary'].values)\n",
    "index_max"
   ]
  },
  {
   "cell_type": "code",
   "execution_count": 272,
   "id": "6f53daac",
   "metadata": {},
   "outputs": [],
   "source": [
    "dp1.iloc[29637]\n",
    "dp1=dp1.drop(dp1.index[29637])"
   ]
  },
  {
   "cell_type": "code",
   "execution_count": 273,
   "id": "615180fe",
   "metadata": {},
   "outputs": [
    {
     "data": {
      "text/plain": [
       "11240"
      ]
     },
     "execution_count": 273,
     "metadata": {},
     "output_type": "execute_result"
    }
   ],
   "source": [
    "index_max = np.argmax(dp1['Salary'].values)\n",
    "index_max"
   ]
  },
  {
   "cell_type": "code",
   "execution_count": 274,
   "id": "9d51c82b",
   "metadata": {},
   "outputs": [],
   "source": [
    "dp1.iloc[11240]\n",
    "dp1=dp1.drop(dp1.index[11240])"
   ]
  },
  {
   "cell_type": "code",
   "execution_count": 243,
   "id": "518b266c",
   "metadata": {
    "collapsed": true
   },
   "outputs": [
    {
     "name": "stdout",
     "output_type": "stream",
     "text": [
      "[(0, 5631230), (1, 70117678), (2, 93169983), (3, 112138036), (4, 121527659), (5, 188606930), (6, 144303298), (7, 168881600), (8, 166410516), (9, 109374443), (10, 233620134), (11, 110004753), (12, 145067881), (13, 103728094), (14, 75206465), (15, 163020358), (16, 81124807), (17, 85404997), (18, 70932826), (19, 33582620), (20, 133803561), (21, 32135889), (22, 52003078), (23, 68614820), (24, 36879800), (25, 112292737), (26, 35140883), (27, 27505366), (28, 26215278), (29, 15423689), (30, 53664337), (31, 11375921), (32, 15055912), (33, 15172729), (34, 10510447), (35, 34758613), (36, 12227900), (37, 9867201), (38, 7723445), (39, 5360096), (40, 27252435), (41, 4784318), (42, 4607105), (43, 6635639), (44, 2174901), (45, 6957679), (46, 2436532), (47, 1720622), (48, 1039322), (49, 558963), (50, 6686924)]\n",
      "[143, 1461, 1920, 1972, 1885, 2461, 1820, 1898, 1795, 1153, 2331, 1057, 1391, 947, 686, 1522, 679, 657, 595, 277, 1189, 266, 404, 536, 314, 841, 257, 211, 194, 93, 427, 93, 114, 120, 80, 201, 93, 72, 72, 35, 129, 45, 31, 31, 16, 36, 24, 10, 6, 4, 41]\n"
     ]
    }
   ],
   "source": [
    "# prepare the data for visualization\n",
    "n=list(range(0,51))\n",
    "m=[] \n",
    "l=[]\n",
    "y=0\n",
    "c=0\n",
    "for year in n:\n",
    "    y=0\n",
    "    c=0\n",
    "    for w,s in dp1.values:\n",
    "        if w == year:\n",
    "            c=c+1\n",
    "            y=y+s\n",
    "    l1=l.append(c)\n",
    "    m1=m.append((year,y))\n",
    "print(m)\n",
    "print(l)"
   ]
  },
  {
   "cell_type": "code",
   "execution_count": 244,
   "id": "22bea2dd",
   "metadata": {},
   "outputs": [],
   "source": [
    "d={}\n",
    "for k,v in m:\n",
    "    mean=v/l[k]\n",
    "    d[k]=round(mean)\n",
    "\n",
    "lists = sorted(d.items()) # sorted by key, return a list of tuples\n",
    "\n",
    "dx, dy = zip(*lists) # unpack a list of pairs into two tuples"
   ]
  },
  {
   "cell_type": "code",
   "execution_count": 276,
   "id": "041fa08a",
   "metadata": {},
   "outputs": [
    {
     "data": {
      "image/png": "[encoded data removed]",
      "text/plain": [
       "<Figure size 1080x720 with 1 Axes>"
      ]
     },
     "metadata": {
      "needs_background": "light"
     },
     "output_type": "display_data"
    }
   ],
   "source": [
    "plt.figure(figsize=(15, 10))\n",
    "plt.scatter(x=dp1['Work Experience'],y=dp1['Salary'],s=20)\n",
    "plt.title('Experience vs Salary')\n",
    "plt.xlabel('Years')\n",
    "plt.ylabel('Salary')\n",
    "plt.plot(dx, dy,color=\"Green\") # connecting the mean values\n",
    "plt.show()"
   ]
  },
  {
   "cell_type": "code",
   "execution_count": 277,
   "id": "ce49a82d",
   "metadata": {
    "scrolled": false
   },
   "outputs": [
    {
     "data": {
      "text/plain": [
       "<AxesSubplot:xlabel='Work Experience', ylabel='Salary'>"
      ]
     },
     "execution_count": 277,
     "metadata": {},
     "output_type": "execute_result"
    },
    {
     "data": {
      "image/png": "[encoded data removed]",
      "text/plain": [
       "<Figure size 1080x720 with 1 Axes>"
      ]
     },
     "metadata": {
      "needs_background": "light"
     },
     "output_type": "display_data"
    }
   ],
   "source": [
    "plt.figure(figsize=(15, 10))\n",
    "plt.plot(dx, dy,color=\"Green\")\n",
    "sns.regplot(x='Work Experience',y='Salary',data=dp1,scatter_kws={'color':'red'},line_kws={'color':'blue'})"
   ]
  },
  {
   "cell_type": "code",
   "execution_count": null,
   "id": "f286049a",
   "metadata": {},
   "outputs": [],
   "source": []
  }
 ],
 "metadata": {
  "kernelspec": {
   "display_name": "Python 3 (ipykernel)",
   "language": "python",
   "name": "python3"
  },
  "language_info": {
   "codemirror_mode": {
    "name": "ipython",
    "version": 3
   },
   "file_extension": ".py",
   "mimetype": "text/x-python",
   "name": "python",
   "nbconvert_exporter": "python",
   "pygments_lexer": "ipython3",
   "version": "3.9.12"
  }
 },
 "nbformat": 4,
 "nbformat_minor": 5
}
